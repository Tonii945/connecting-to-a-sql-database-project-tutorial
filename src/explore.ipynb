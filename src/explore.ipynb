{
 "cells": [
  {
   "cell_type": "code",
   "execution_count": 3,
   "metadata": {},
   "outputs": [
    {
     "data": {
      "text/plain": [
       "<sqlalchemy.engine.base.Connection at 0x7fcc61fab080>"
      ]
     },
     "execution_count": 3,
     "metadata": {},
     "output_type": "execute_result"
    }
   ],
   "source": [
    "import os\n",
    "import pandas as pd\n",
    "from sqlalchemy import create_engine, text\n",
    "from dotenv import load_dotenv\n",
    "\n",
    "\n",
    "load_dotenv()\n",
    "\n",
    "connection_string = f\"postgresql://{os.getenv('DB_USER')}:{os.getenv('DB_PASSWORD')}@{os.getenv('DB_HOST')}/{os.getenv('DB_NAME')}\"\n",
    "engine = create_engine(connection_string).execution_options(autocommit=True)\n",
    "engine.connect()"
   ]
  },
  {
   "cell_type": "markdown",
   "metadata": {},
   "source": [
    "# 2) Create the tables"
   ]
  },
  {
   "cell_type": "code",
   "execution_count": 4,
   "metadata": {},
   "outputs": [],
   "source": [
    "with engine.connect() as connection:\n",
    "    connection.execute(text(\"\"\"\n",
    "    CREATE TABLE IF NOT EXISTS publishers (\n",
    "        publisher_id SERIAL PRIMARY KEY,\n",
    "        name VARCHAR(255) NOT NULL\n",
    "    );\n",
    "\n",
    "    CREATE TABLE IF NOT EXISTS authors (\n",
    "        author_id SERIAL PRIMARY KEY,\n",
    "        first_name VARCHAR(100) NOT NULL,\n",
    "        middle_name VARCHAR(50) NULL,\n",
    "        last_name VARCHAR(100) NULL\n",
    "    );\n",
    "\n",
    "    CREATE TABLE IF NOT EXISTS books (\n",
    "        book_id SERIAL PRIMARY KEY,\n",
    "        title VARCHAR(255) NOT NULL,\n",
    "        total_pages INT NULL,\n",
    "        rating DECIMAL(4,2) NULL,\n",
    "        isbn VARCHAR(13) NULL,\n",
    "        published_date DATE,\n",
    "        publisher_id INT NULL,\n",
    "        CONSTRAINT fk_publisher FOREIGN KEY(publisher_id) \n",
    "            REFERENCES publishers(publisher_id) \n",
    "            ON DELETE SET NULL\n",
    "    );\n",
    "\n",
    "    CREATE TABLE IF NOT EXISTS book_authors (\n",
    "        book_id INT NOT NULL,\n",
    "        author_id INT NOT NULL,\n",
    "        PRIMARY KEY(book_id, author_id),\n",
    "        CONSTRAINT fk_book FOREIGN KEY(book_id) \n",
    "            REFERENCES books(book_id) ON DELETE CASCADE,\n",
    "        CONSTRAINT fk_author FOREIGN KEY(author_id) \n",
    "            REFERENCES authors(author_id) ON DELETE CASCADE\n",
    "    );\n",
    "    \"\"\"))\n",
    "    connection.commit()"
   ]
  },
  {
   "cell_type": "markdown",
   "metadata": {},
   "source": [
    "# 3) Insert data"
   ]
  },
  {
   "cell_type": "code",
   "execution_count": 5,
   "metadata": {},
   "outputs": [],
   "source": [
    "with engine.connect() as connection:\n",
    "    connection.execute(text(\"\"\"\n",
    "    INSERT INTO publishers (publisher_id, name) VALUES \n",
    "    (1, 'O Reilly Media'),\n",
    "    (2, 'A Book Apart'),\n",
    "    (3, 'A K PETERS'),\n",
    "    (4, 'Academic Press'),\n",
    "    (5, 'Addison Wesley'),\n",
    "    (6, 'Albert&Sweigart'),\n",
    "    (7, 'Alfred A. Knopf');\n",
    "\n",
    "\n",
    "\n",
    "    INSERT INTO authors (author_id, first_name, middle_name, last_name) VALUES \n",
    "        (1, 'Merritt', null, 'Eric'), \n",
    "        (2, 'Linda', null, 'Mui'),\n",
    "        (3, 'Alecos', null, 'Papadatos'),\n",
    "        (4, 'Anthony', null, 'Molinaro'), \n",
    "        (5, 'David', null, 'Cronin'),\n",
    "        (6, 'Richard', null, 'Blum'),\n",
    "        (7, 'Yuval', 'Noah', 'Harari'),\n",
    "        (8, 'Paul', null, 'Albitz');\n",
    "\n",
    "\n",
    "    INSERT INTO books (book_id, title, total_pages, rating, isbn, published_date, publisher_id) VALUES \n",
    "        (1, 'Lean Software Development: An Agile Toolkit', 240, 4.17, '9780320000000', '2003-05-18', 5),\n",
    "        (2, 'Facing the Intelligence Explosion', 91, 3.87, null, '2013-02-01', 7),\n",
    "        (3, 'Scala in Action', 419, 3.74, '9781940000000', '2013-04-10', 1),\n",
    "        (4, 'Patterns of Software: Tales from the Software Community', 256, 3.84, '9780200000000', '1996-08-15', 1),\n",
    "        (5, 'Anatomy Of LISP', 446, 4.43, '9780070000000', '1978-01-01', 3),\n",
    "        (6, 'Computing machinery and intelligence', 24, 4.17, null, '2009-03-22', 4),\n",
    "        (7, 'XML: Visual QuickStart Guide', 269, 3.66, '9780320000000', '2009-01-01', 5),\n",
    "        (8, 'SQL Cookbook', 595, 3.95, '9780600000000', '2005-12-01', 7),\n",
    "        (9, 'The Apollo Guidance Computer: Architecture And Operation (Springer Praxis Books / Space Exploration)', 439, 4.29, '9781440000000', '2010-07-01', 6),\n",
    "        (10, 'Minds and Computers: An Introduction to the Philosophy of Artificial Intelligence', 222, 3.54, '9780750000000', '2007-02-13', 7);\n",
    "\n",
    "\n",
    "    INSERT INTO book_authors (book_id, author_id) VALUES \n",
    "        (1, 1),\n",
    "        (2, 8),\n",
    "        (3, 7),\n",
    "        (4, 6),\n",
    "        (5, 5),\n",
    "        (6, 4),\n",
    "        (7, 3),\n",
    "        (8, 2),\n",
    "        (9, 4),\n",
    "        (10, 1);\n",
    "\n",
    "    \"\"\"))\n",
    "    connection.commit()"
   ]
  },
  {
   "cell_type": "markdown",
   "metadata": {},
   "source": [
    "# 4) Use Pandas to read and display a table"
   ]
  },
  {
   "cell_type": "code",
   "execution_count": 6,
   "metadata": {},
   "outputs": [
    {
     "name": "stdout",
     "output_type": "stream",
     "text": [
      "   publisher_id             name\n",
      "0             1   O Reilly Media\n",
      "1             2     A Book Apart\n",
      "2             3       A K PETERS\n",
      "3             4   Academic Press\n",
      "4             5   Addison Wesley\n",
      "5             6  Albert&Sweigart\n",
      "6             7  Alfred A. Knopf\n",
      "   author_id first_name middle_name  last_name\n",
      "0          1    Merritt        None       Eric\n",
      "1          2      Linda        None        Mui\n",
      "2          3     Alecos        None  Papadatos\n",
      "3          4    Anthony        None   Molinaro\n",
      "4          5      David        None     Cronin\n",
      "5          6    Richard        None       Blum\n",
      "6          7      Yuval        Noah     Harari\n",
      "7          8       Paul        None     Albitz\n",
      "   book_id                                              title  total_pages  \\\n",
      "0        1        Lean Software Development: An Agile Toolkit          240   \n",
      "1        2                  Facing the Intelligence Explosion           91   \n",
      "2        3                                    Scala in Action          419   \n",
      "3        4  Patterns of Software: Tales from the Software ...          256   \n",
      "4        5                                    Anatomy Of LISP          446   \n",
      "5        6               Computing machinery and intelligence           24   \n",
      "6        7                       XML: Visual QuickStart Guide          269   \n",
      "7        8                                       SQL Cookbook          595   \n",
      "8        9  The Apollo Guidance Computer: Architecture And...          439   \n",
      "9       10  Minds and Computers: An Introduction to the Ph...          222   \n",
      "\n",
      "   rating           isbn published_date  publisher_id  \n",
      "0    4.17  9780320000000     2003-05-18             5  \n",
      "1    3.87           None     2013-02-01             7  \n",
      "2    3.74  9781940000000     2013-04-10             1  \n",
      "3    3.84  9780200000000     1996-08-15             1  \n",
      "4    4.43  9780070000000     1978-01-01             3  \n",
      "5    4.17           None     2009-03-22             4  \n",
      "6    3.66  9780320000000     2009-01-01             5  \n",
      "7    3.95  9780600000000     2005-12-01             7  \n",
      "8    4.29  9781440000000     2010-07-01             6  \n",
      "9    3.54  9780750000000     2007-02-13             7  \n",
      "   book_id  author_id\n",
      "0        1          1\n",
      "1        2          8\n",
      "2        3          7\n",
      "3        4          6\n",
      "4        5          5\n",
      "5        6          4\n",
      "6        7          3\n",
      "7        8          2\n",
      "8        9          4\n",
      "9       10          1\n"
     ]
    }
   ],
   "source": [
    "with engine.connect() as connection:\n",
    "    df = pd.read_sql(\"SELECT * FROM publishers;\", connection)\n",
    "\n",
    "print(df)\n",
    "\n",
    "with engine.connect() as connection:\n",
    "    df = pd.read_sql(\"SELECT * FROM authors;\", connection)\n",
    "\n",
    "print(df)\n",
    "\n",
    "with engine.connect() as connection:\n",
    "    df = pd.read_sql(\"SELECT * FROM books;\", connection)\n",
    "\n",
    "print(df)\n",
    "\n",
    "with engine.connect() as connection:\n",
    "    df = pd.read_sql(\"SELECT * FROM book_authors;\", connection)\n",
    "\n",
    "print(df)"
   ]
  }
 ],
 "metadata": {
  "kernelspec": {
   "display_name": "Python 3",
   "language": "python",
   "name": "python3"
  },
  "language_info": {
   "codemirror_mode": {
    "name": "ipython",
    "version": 3
   },
   "file_extension": ".py",
   "mimetype": "text/x-python",
   "name": "python",
   "nbconvert_exporter": "python",
   "pygments_lexer": "ipython3",
   "version": "3.12.9"
  }
 },
 "nbformat": 4,
 "nbformat_minor": 2
}
